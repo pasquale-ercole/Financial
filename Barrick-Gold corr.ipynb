{
 "cells": [
  {
   "cell_type": "markdown",
   "metadata": {},
   "source": [
    "### CORRELATION BETWEEN BARRICK GOLD AND THE PHYSICAL GOLD \n",
    "### BARRICK GOLD AND ETF GOLD PRODUCERS \n",
    "### PHYSICAL GOLD AND ETF GOLD PRODUCERS"
   ]
  },
  {
   "cell_type": "code",
   "execution_count": 2,
   "metadata": {},
   "outputs": [
    {
     "name": "stdout",
     "output_type": "stream",
     "text": [
      "Collecting yfinance\n",
      "  Downloading https://files.pythonhosted.org/packages/7a/e8/b9d7104d3a4bf39924799067592d9e59119fcfc900a425a12e80a3123ec8/yfinance-0.1.55.tar.gz\n",
      "Requirement already satisfied: pandas>=0.24 in /home/jupyterlab/conda/envs/python/lib/python3.6/site-packages (from yfinance) (1.1.5)\n",
      "Requirement already satisfied: numpy>=1.15 in /home/jupyterlab/conda/envs/python/lib/python3.6/site-packages (from yfinance) (1.19.4)\n",
      "Requirement already satisfied: requests>=2.20 in /home/jupyterlab/conda/envs/python/lib/python3.6/site-packages (from yfinance) (2.25.0)\n",
      "Collecting multitasking>=0.0.7 (from yfinance)\n",
      "  Downloading https://files.pythonhosted.org/packages/69/e7/e9f1661c28f7b87abfa08cb0e8f51dad2240a9f4f741f02ea839835e6d18/multitasking-0.0.9.tar.gz\n",
      "Collecting lxml>=4.5.1 (from yfinance)\n",
      "\u001b[?25l  Downloading https://files.pythonhosted.org/packages/bd/78/56a7c88a57d0d14945472535d0df9fb4bbad7d34ede658ec7961635c790e/lxml-4.6.2-cp36-cp36m-manylinux1_x86_64.whl (5.5MB)\n",
      "\u001b[K     |████████████████████████████████| 5.5MB 511kB/s eta 0:00:01     |████████████▉                   | 2.2MB 5.7MB/s eta 0:00:01\n",
      "\u001b[?25hRequirement already satisfied: pytz>=2017.2 in /home/jupyterlab/conda/envs/python/lib/python3.6/site-packages (from pandas>=0.24->yfinance) (2020.4)\n",
      "Requirement already satisfied: python-dateutil>=2.7.3 in /home/jupyterlab/conda/envs/python/lib/python3.6/site-packages (from pandas>=0.24->yfinance) (2.8.1)\n",
      "Requirement already satisfied: chardet<4,>=3.0.2 in /home/jupyterlab/conda/envs/python/lib/python3.6/site-packages (from requests>=2.20->yfinance) (3.0.4)\n",
      "Requirement already satisfied: urllib3<1.27,>=1.21.1 in /home/jupyterlab/conda/envs/python/lib/python3.6/site-packages (from requests>=2.20->yfinance) (1.25.11)\n",
      "Requirement already satisfied: certifi>=2017.4.17 in /home/jupyterlab/conda/envs/python/lib/python3.6/site-packages (from requests>=2.20->yfinance) (2020.12.5)\n",
      "Requirement already satisfied: idna<3,>=2.5 in /home/jupyterlab/conda/envs/python/lib/python3.6/site-packages (from requests>=2.20->yfinance) (2.10)\n",
      "Requirement already satisfied: six>=1.5 in /home/jupyterlab/conda/envs/python/lib/python3.6/site-packages (from python-dateutil>=2.7.3->pandas>=0.24->yfinance) (1.15.0)\n",
      "Building wheels for collected packages: yfinance, multitasking\n",
      "  Building wheel for yfinance (setup.py) ... \u001b[?25ldone\n",
      "\u001b[?25h  Stored in directory: /home/jupyterlab/.cache/pip/wheels/04/98/cc/2702a4242d60bdc14f48b4557c427ded1fe92aedf257d4565c\n",
      "  Building wheel for multitasking (setup.py) ... \u001b[?25ldone\n",
      "\u001b[?25h  Stored in directory: /home/jupyterlab/.cache/pip/wheels/37/fa/73/d492849e319038eb4d986f5152e4b19ffb1bc0639da84d2677\n",
      "Successfully built yfinance multitasking\n",
      "Installing collected packages: multitasking, lxml, yfinance\n",
      "Successfully installed lxml-4.6.2 multitasking-0.0.9 yfinance-0.1.55\n",
      "Collecting pandas-datareader\n",
      "\u001b[?25l  Downloading https://files.pythonhosted.org/packages/22/f1/a02eea03628865c3d4c29849cda8c8a73f43358048aee47d79dfbfa6c6c3/pandas_datareader-0.9.0-py3-none-any.whl (107kB)\n",
      "\u001b[K     |████████████████████████████████| 112kB 5.0MB/s eta 0:00:01\n",
      "\u001b[?25hRequirement already satisfied: lxml in /home/jupyterlab/conda/envs/python/lib/python3.6/site-packages (from pandas-datareader) (4.6.2)\n",
      "Requirement already satisfied: pandas>=0.23 in /home/jupyterlab/conda/envs/python/lib/python3.6/site-packages (from pandas-datareader) (1.1.5)\n",
      "Requirement already satisfied: requests>=2.19.0 in /home/jupyterlab/conda/envs/python/lib/python3.6/site-packages (from pandas-datareader) (2.25.0)\n",
      "Requirement already satisfied: pytz>=2017.2 in /home/jupyterlab/conda/envs/python/lib/python3.6/site-packages (from pandas>=0.23->pandas-datareader) (2020.4)\n",
      "Requirement already satisfied: python-dateutil>=2.7.3 in /home/jupyterlab/conda/envs/python/lib/python3.6/site-packages (from pandas>=0.23->pandas-datareader) (2.8.1)\n",
      "Requirement already satisfied: numpy>=1.15.4 in /home/jupyterlab/conda/envs/python/lib/python3.6/site-packages (from pandas>=0.23->pandas-datareader) (1.19.4)\n",
      "Requirement already satisfied: chardet<4,>=3.0.2 in /home/jupyterlab/conda/envs/python/lib/python3.6/site-packages (from requests>=2.19.0->pandas-datareader) (3.0.4)\n",
      "Requirement already satisfied: urllib3<1.27,>=1.21.1 in /home/jupyterlab/conda/envs/python/lib/python3.6/site-packages (from requests>=2.19.0->pandas-datareader) (1.25.11)\n",
      "Requirement already satisfied: certifi>=2017.4.17 in /home/jupyterlab/conda/envs/python/lib/python3.6/site-packages (from requests>=2.19.0->pandas-datareader) (2020.12.5)\n",
      "Requirement already satisfied: idna<3,>=2.5 in /home/jupyterlab/conda/envs/python/lib/python3.6/site-packages (from requests>=2.19.0->pandas-datareader) (2.10)\n",
      "Requirement already satisfied: six>=1.5 in /home/jupyterlab/conda/envs/python/lib/python3.6/site-packages (from python-dateutil>=2.7.3->pandas>=0.23->pandas-datareader) (1.15.0)\n",
      "Installing collected packages: pandas-datareader\n",
      "Successfully installed pandas-datareader-0.9.0\n"
     ]
    }
   ],
   "source": [
    "!pip install yfinance\n",
    "!pip install pandas-datareader\n",
    "import pandas_datareader.data as web\n",
    "import pandas as pd\n",
    "import matplotlib.pyplot as py\n",
    "import math\n",
    "import datetime as dt\n",
    "import os"
   ]
  },
  {
   "cell_type": "code",
   "execution_count": 3,
   "metadata": {},
   "outputs": [],
   "source": [
    "start = dt.datetime(2001,1,1)\n",
    "end = dt.datetime(2021,1,1)"
   ]
  },
  {
   "cell_type": "code",
   "execution_count": 4,
   "metadata": {},
   "outputs": [
    {
     "data": {
      "text/html": [
       "<div>\n",
       "<style scoped>\n",
       "    .dataframe tbody tr th:only-of-type {\n",
       "        vertical-align: middle;\n",
       "    }\n",
       "\n",
       "    .dataframe tbody tr th {\n",
       "        vertical-align: top;\n",
       "    }\n",
       "\n",
       "    .dataframe thead th {\n",
       "        text-align: right;\n",
       "    }\n",
       "</style>\n",
       "<table border=\"1\" class=\"dataframe\">\n",
       "  <thead>\n",
       "    <tr style=\"text-align: right;\">\n",
       "      <th></th>\n",
       "      <th>High</th>\n",
       "      <th>Low</th>\n",
       "      <th>Open</th>\n",
       "      <th>Close</th>\n",
       "      <th>Volume</th>\n",
       "      <th>Adj Close</th>\n",
       "    </tr>\n",
       "    <tr>\n",
       "      <th>Date</th>\n",
       "      <th></th>\n",
       "      <th></th>\n",
       "      <th></th>\n",
       "      <th></th>\n",
       "      <th></th>\n",
       "      <th></th>\n",
       "    </tr>\n",
       "  </thead>\n",
       "  <tbody>\n",
       "    <tr>\n",
       "      <th>2001-01-02</th>\n",
       "      <td>268.399994</td>\n",
       "      <td>268.399994</td>\n",
       "      <td>268.399994</td>\n",
       "      <td>268.399994</td>\n",
       "      <td>0.0</td>\n",
       "      <td>268.399994</td>\n",
       "    </tr>\n",
       "    <tr>\n",
       "      <th>2001-01-03</th>\n",
       "      <td>268.000000</td>\n",
       "      <td>268.000000</td>\n",
       "      <td>268.000000</td>\n",
       "      <td>268.000000</td>\n",
       "      <td>1.0</td>\n",
       "      <td>268.000000</td>\n",
       "    </tr>\n",
       "    <tr>\n",
       "      <th>2001-01-04</th>\n",
       "      <td>267.299988</td>\n",
       "      <td>267.299988</td>\n",
       "      <td>267.299988</td>\n",
       "      <td>267.299988</td>\n",
       "      <td>1.0</td>\n",
       "      <td>267.299988</td>\n",
       "    </tr>\n",
       "    <tr>\n",
       "      <th>2001-01-05</th>\n",
       "      <td>268.000000</td>\n",
       "      <td>268.000000</td>\n",
       "      <td>268.000000</td>\n",
       "      <td>268.000000</td>\n",
       "      <td>0.0</td>\n",
       "      <td>268.000000</td>\n",
       "    </tr>\n",
       "    <tr>\n",
       "      <th>2001-01-08</th>\n",
       "      <td>268.000000</td>\n",
       "      <td>268.000000</td>\n",
       "      <td>268.000000</td>\n",
       "      <td>268.000000</td>\n",
       "      <td>0.0</td>\n",
       "      <td>268.000000</td>\n",
       "    </tr>\n",
       "    <tr>\n",
       "      <th>...</th>\n",
       "      <td>...</td>\n",
       "      <td>...</td>\n",
       "      <td>...</td>\n",
       "      <td>...</td>\n",
       "      <td>...</td>\n",
       "      <td>...</td>\n",
       "    </tr>\n",
       "    <tr>\n",
       "      <th>2020-12-23</th>\n",
       "      <td>1878.800049</td>\n",
       "      <td>1864.500000</td>\n",
       "      <td>1867.000000</td>\n",
       "      <td>1874.699951</td>\n",
       "      <td>82.0</td>\n",
       "      <td>1874.699951</td>\n",
       "    </tr>\n",
       "    <tr>\n",
       "      <th>2020-12-28</th>\n",
       "      <td>1895.800049</td>\n",
       "      <td>1873.699951</td>\n",
       "      <td>1895.500000</td>\n",
       "      <td>1877.199951</td>\n",
       "      <td>75.0</td>\n",
       "      <td>1877.199951</td>\n",
       "    </tr>\n",
       "    <tr>\n",
       "      <th>2020-12-29</th>\n",
       "      <td>1881.300049</td>\n",
       "      <td>1879.699951</td>\n",
       "      <td>1881.300049</td>\n",
       "      <td>1879.699951</td>\n",
       "      <td>343.0</td>\n",
       "      <td>1879.699951</td>\n",
       "    </tr>\n",
       "    <tr>\n",
       "      <th>2020-12-30</th>\n",
       "      <td>1895.800049</td>\n",
       "      <td>1877.300049</td>\n",
       "      <td>1879.900024</td>\n",
       "      <td>1891.000000</td>\n",
       "      <td>444.0</td>\n",
       "      <td>1891.000000</td>\n",
       "    </tr>\n",
       "    <tr>\n",
       "      <th>2020-12-31</th>\n",
       "      <td>1901.300049</td>\n",
       "      <td>1892.699951</td>\n",
       "      <td>1897.000000</td>\n",
       "      <td>1893.099976</td>\n",
       "      <td>127.0</td>\n",
       "      <td>1893.099976</td>\n",
       "    </tr>\n",
       "  </tbody>\n",
       "</table>\n",
       "<p>4986 rows × 6 columns</p>\n",
       "</div>"
      ],
      "text/plain": [
       "                   High          Low         Open        Close  Volume  \\\n",
       "Date                                                                     \n",
       "2001-01-02   268.399994   268.399994   268.399994   268.399994     0.0   \n",
       "2001-01-03   268.000000   268.000000   268.000000   268.000000     1.0   \n",
       "2001-01-04   267.299988   267.299988   267.299988   267.299988     1.0   \n",
       "2001-01-05   268.000000   268.000000   268.000000   268.000000     0.0   \n",
       "2001-01-08   268.000000   268.000000   268.000000   268.000000     0.0   \n",
       "...                 ...          ...          ...          ...     ...   \n",
       "2020-12-23  1878.800049  1864.500000  1867.000000  1874.699951    82.0   \n",
       "2020-12-28  1895.800049  1873.699951  1895.500000  1877.199951    75.0   \n",
       "2020-12-29  1881.300049  1879.699951  1881.300049  1879.699951   343.0   \n",
       "2020-12-30  1895.800049  1877.300049  1879.900024  1891.000000   444.0   \n",
       "2020-12-31  1901.300049  1892.699951  1897.000000  1893.099976   127.0   \n",
       "\n",
       "              Adj Close  \n",
       "Date                     \n",
       "2001-01-02   268.399994  \n",
       "2001-01-03   268.000000  \n",
       "2001-01-04   267.299988  \n",
       "2001-01-05   268.000000  \n",
       "2001-01-08   268.000000  \n",
       "...                 ...  \n",
       "2020-12-23  1874.699951  \n",
       "2020-12-28  1877.199951  \n",
       "2020-12-29  1879.699951  \n",
       "2020-12-30  1891.000000  \n",
       "2020-12-31  1893.099976  \n",
       "\n",
       "[4986 rows x 6 columns]"
      ]
     },
     "execution_count": 4,
     "metadata": {},
     "output_type": "execute_result"
    }
   ],
   "source": [
    "df_barrick = web.DataReader('GOLD','yahoo', start, end)\n",
    "df_gold = web.DataReader('GC=F','yahoo', start, end)\n",
    "df_gold"
   ]
  },
  {
   "cell_type": "code",
   "execution_count": 5,
   "metadata": {},
   "outputs": [],
   "source": [
    "barrick_rend = pd.DataFrame()\n",
    "gold_rend = pd.DataFrame()"
   ]
  },
  {
   "cell_type": "code",
   "execution_count": 6,
   "metadata": {},
   "outputs": [],
   "source": [
    "barrick_rend['Returns'] = df_barrick['Adj Close'].pct_change()\n",
    "gold_rend['Returns'] = df_gold['Adj Close'].pct_change()"
   ]
  },
  {
   "cell_type": "code",
   "execution_count": 7,
   "metadata": {},
   "outputs": [],
   "source": [
    "barrick_rend.dropna(inplace = True)\n",
    "gold_rend.dropna(inplace = True)"
   ]
  },
  {
   "cell_type": "code",
   "execution_count": 8,
   "metadata": {},
   "outputs": [
    {
     "data": {
      "text/plain": [
       "0.5927428478643627"
      ]
     },
     "execution_count": 8,
     "metadata": {},
     "output_type": "execute_result"
    }
   ],
   "source": [
    "corr_1 = gold_rend['Returns'].corr(barrick_rend['Returns'])\n",
    "corr_1"
   ]
  },
  {
   "cell_type": "code",
   "execution_count": 9,
   "metadata": {},
   "outputs": [],
   "source": [
    "start_2 = dt.datetime(2012,1,1)\n",
    "df_etfgold = web.DataReader('IS0E.DE', 'yahoo',start_2, end)"
   ]
  },
  {
   "cell_type": "code",
   "execution_count": 10,
   "metadata": {},
   "outputs": [],
   "source": [
    "etfgold_rend = pd.DataFrame()\n",
    "etfgold_rend['Returns'] = df_etfgold['Adj Close'].pct_change()"
   ]
  },
  {
   "cell_type": "code",
   "execution_count": 11,
   "metadata": {},
   "outputs": [
    {
     "data": {
      "text/plain": [
       "0.661472171466775"
      ]
     },
     "execution_count": 11,
     "metadata": {},
     "output_type": "execute_result"
    }
   ],
   "source": [
    "corr_2 = gold_rend['Returns'].corr(etfgold_rend['Returns'])\n",
    "corr_2"
   ]
  },
  {
   "cell_type": "code",
   "execution_count": 12,
   "metadata": {},
   "outputs": [
    {
     "data": {
      "text/plain": [
       "0.5721933401781981"
      ]
     },
     "execution_count": 12,
     "metadata": {},
     "output_type": "execute_result"
    }
   ],
   "source": [
    "corr_3 = barrick_rend['Returns'].corr(etfgold_rend['Returns'])\n",
    "corr_3"
   ]
  },
  {
   "cell_type": "code",
   "execution_count": 13,
   "metadata": {},
   "outputs": [],
   "source": [
    "df_nem = web.DataReader('NEM', 'yahoo', start, end)\n",
    "dfnem_rend = pd.DataFrame()\n",
    "dfnem_rend['Returns'] = df_nem['Adj Close'].pct_change()"
   ]
  },
  {
   "cell_type": "code",
   "execution_count": 14,
   "metadata": {},
   "outputs": [
    {
     "data": {
      "text/plain": [
       "0.5501470970476928"
      ]
     },
     "execution_count": 14,
     "metadata": {},
     "output_type": "execute_result"
    }
   ],
   "source": [
    "# correlation between newmont and Gold\n",
    "corr_4 = gold_rend['Returns'].corr(dfnem_rend['Returns'])\n",
    "corr_4"
   ]
  },
  {
   "cell_type": "code",
   "execution_count": null,
   "metadata": {},
   "outputs": [],
   "source": []
  }
 ],
 "metadata": {
  "kernelspec": {
   "display_name": "Python",
   "language": "python",
   "name": "conda-env-python-py"
  },
  "language_info": {
   "codemirror_mode": {
    "name": "ipython",
    "version": 3
   },
   "file_extension": ".py",
   "mimetype": "text/x-python",
   "name": "python",
   "nbconvert_exporter": "python",
   "pygments_lexer": "ipython3",
   "version": "3.6.12"
  }
 },
 "nbformat": 4,
 "nbformat_minor": 4
}
